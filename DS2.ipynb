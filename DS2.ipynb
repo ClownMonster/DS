{
  "cells": [
    {
      "cell_type": "code",
      "execution_count": 5,
      "metadata": {
        "id": "AfJUK4EVbnvM"
      },
      "outputs": [],
      "source": [
        "import pandas as pd\n",
        "import numpy as np\n",
        "import matplotlib.pyplot as plt\n",
        "import seaborn as sns\n",
        "from mlxtend.frequent_patterns import apriori, association_rules\n",
        "import matplotlib.pyplot as plt\n",
        "\n"
      ]
    },
    {
      "cell_type": "code",
      "execution_count": 6,
      "metadata": {
        "colab": {
          "base_uri": "https://localhost:8080/",
          "height": 363
        },
        "id": "YRJjQ1MwiI9Z",
        "outputId": "bffc14d6-c632-4dc1-800e-40e037c31b2f"
      },
      "outputs": [
        {
          "data": {
            "text/html": [
              "<div>\n",
              "<style scoped>\n",
              "    .dataframe tbody tr th:only-of-type {\n",
              "        vertical-align: middle;\n",
              "    }\n",
              "\n",
              "    .dataframe tbody tr th {\n",
              "        vertical-align: top;\n",
              "    }\n",
              "\n",
              "    .dataframe thead th {\n",
              "        text-align: right;\n",
              "    }\n",
              "</style>\n",
              "<table border=\"1\" class=\"dataframe\">\n",
              "  <thead>\n",
              "    <tr style=\"text-align: right;\">\n",
              "      <th></th>\n",
              "      <th>0</th>\n",
              "      <th>1</th>\n",
              "      <th>2</th>\n",
              "      <th>3</th>\n",
              "      <th>4</th>\n",
              "      <th>5</th>\n",
              "      <th>6</th>\n",
              "    </tr>\n",
              "  </thead>\n",
              "  <tbody>\n",
              "    <tr>\n",
              "      <th>0</th>\n",
              "      <td>Bread</td>\n",
              "      <td>Wine</td>\n",
              "      <td>Eggs</td>\n",
              "      <td>Meat</td>\n",
              "      <td>Cheese</td>\n",
              "      <td>Pencil</td>\n",
              "      <td>Diaper</td>\n",
              "    </tr>\n",
              "    <tr>\n",
              "      <th>1</th>\n",
              "      <td>Bread</td>\n",
              "      <td>Cheese</td>\n",
              "      <td>Meat</td>\n",
              "      <td>Diaper</td>\n",
              "      <td>Wine</td>\n",
              "      <td>Milk</td>\n",
              "      <td>Pencil</td>\n",
              "    </tr>\n",
              "    <tr>\n",
              "      <th>2</th>\n",
              "      <td>Cheese</td>\n",
              "      <td>Meat</td>\n",
              "      <td>Eggs</td>\n",
              "      <td>Milk</td>\n",
              "      <td>Wine</td>\n",
              "      <td>NaN</td>\n",
              "      <td>NaN</td>\n",
              "    </tr>\n",
              "    <tr>\n",
              "      <th>3</th>\n",
              "      <td>Cheese</td>\n",
              "      <td>Meat</td>\n",
              "      <td>Eggs</td>\n",
              "      <td>Milk</td>\n",
              "      <td>Wine</td>\n",
              "      <td>NaN</td>\n",
              "      <td>NaN</td>\n",
              "    </tr>\n",
              "    <tr>\n",
              "      <th>4</th>\n",
              "      <td>Meat</td>\n",
              "      <td>Pencil</td>\n",
              "      <td>Wine</td>\n",
              "      <td>NaN</td>\n",
              "      <td>NaN</td>\n",
              "      <td>NaN</td>\n",
              "      <td>NaN</td>\n",
              "    </tr>\n",
              "    <tr>\n",
              "      <th>5</th>\n",
              "      <td>Eggs</td>\n",
              "      <td>Bread</td>\n",
              "      <td>Wine</td>\n",
              "      <td>Pencil</td>\n",
              "      <td>Milk</td>\n",
              "      <td>Diaper</td>\n",
              "      <td>Bagel</td>\n",
              "    </tr>\n",
              "    <tr>\n",
              "      <th>6</th>\n",
              "      <td>Wine</td>\n",
              "      <td>Pencil</td>\n",
              "      <td>Eggs</td>\n",
              "      <td>Cheese</td>\n",
              "      <td>NaN</td>\n",
              "      <td>NaN</td>\n",
              "      <td>NaN</td>\n",
              "    </tr>\n",
              "    <tr>\n",
              "      <th>7</th>\n",
              "      <td>Bagel</td>\n",
              "      <td>Bread</td>\n",
              "      <td>Milk</td>\n",
              "      <td>Pencil</td>\n",
              "      <td>Diaper</td>\n",
              "      <td>NaN</td>\n",
              "      <td>NaN</td>\n",
              "    </tr>\n",
              "    <tr>\n",
              "      <th>8</th>\n",
              "      <td>Bread</td>\n",
              "      <td>Diaper</td>\n",
              "      <td>Cheese</td>\n",
              "      <td>Milk</td>\n",
              "      <td>Wine</td>\n",
              "      <td>Eggs</td>\n",
              "      <td>NaN</td>\n",
              "    </tr>\n",
              "    <tr>\n",
              "      <th>9</th>\n",
              "      <td>Bagel</td>\n",
              "      <td>Wine</td>\n",
              "      <td>Diaper</td>\n",
              "      <td>Meat</td>\n",
              "      <td>Pencil</td>\n",
              "      <td>Eggs</td>\n",
              "      <td>Cheese</td>\n",
              "    </tr>\n",
              "  </tbody>\n",
              "</table>\n",
              "</div>"
            ],
            "text/plain": [
              "        0       1       2       3       4       5       6\n",
              "0   Bread    Wine    Eggs    Meat  Cheese  Pencil  Diaper\n",
              "1   Bread  Cheese    Meat  Diaper    Wine    Milk  Pencil\n",
              "2  Cheese    Meat    Eggs    Milk    Wine     NaN     NaN\n",
              "3  Cheese    Meat    Eggs    Milk    Wine     NaN     NaN\n",
              "4    Meat  Pencil    Wine     NaN     NaN     NaN     NaN\n",
              "5    Eggs   Bread    Wine  Pencil    Milk  Diaper   Bagel\n",
              "6    Wine  Pencil    Eggs  Cheese     NaN     NaN     NaN\n",
              "7   Bagel   Bread    Milk  Pencil  Diaper     NaN     NaN\n",
              "8   Bread  Diaper  Cheese    Milk    Wine    Eggs     NaN\n",
              "9   Bagel    Wine  Diaper    Meat  Pencil    Eggs  Cheese"
            ]
          },
          "execution_count": 6,
          "metadata": {},
          "output_type": "execute_result"
        }
      ],
      "source": [
        "## Use this to read data directly from github\n",
        "df = pd.read_csv('https://gist.githubusercontent.com/Harsh-Git-Hub/2979ec48043928ad9033d8469928e751/raw/72de943e040b8bd0d087624b154d41b2ba9d9b60/retail_dataset.csv', sep=',')\n",
        "df.head(10)"
      ]
    },
    {
      "cell_type": "code",
      "execution_count": 7,
      "metadata": {
        "colab": {
          "base_uri": "https://localhost:8080/"
        },
        "id": "ZpX3LLMtinh7",
        "outputId": "d2c39aa1-fc6d-4c7e-94e6-10089a490320"
      },
      "outputs": [
        {
          "name": "stdout",
          "output_type": "stream",
          "text": [
            "{'Pencil', nan, 'Cheese', 'Milk', 'Meat', 'Wine', 'Eggs', 'Diaper', 'Bread', 'Bagel'}\n"
          ]
        }
      ],
      "source": [
        "items = set()\n",
        "for col in df:\n",
        "    items.update(df[col].unique())\n",
        "print(items)"
      ]
    },
    {
      "cell_type": "code",
      "execution_count": 8,
      "metadata": {
        "id": "JtB5J2nXiukb"
      },
      "outputs": [],
      "source": [
        "itemset = set(items)\n",
        "encoded_vals = []\n",
        "for index, row in df.iterrows():\n",
        "    rowset = set(row) \n",
        "    labels = {}\n",
        "    uncommons = list(itemset - rowset)\n",
        "    commons = list(itemset.intersection(rowset))\n",
        "    for uc in uncommons:\n",
        "        labels[uc] = 0\n",
        "    for com in commons:\n",
        "        labels[com] = 1\n",
        "    encoded_vals.append(labels)\n",
        "encoded_vals[0]\n",
        "ohe_df = pd.DataFrame(encoded_vals)"
      ]
    },
    {
      "cell_type": "code",
      "execution_count": 9,
      "metadata": {
        "colab": {
          "base_uri": "https://localhost:8080/",
          "height": 269
        },
        "id": "6dDaQ5VMjFgr",
        "outputId": "759b7b75-635c-4605-afa0-371568756b78"
      },
      "outputs": [
        {
          "data": {
            "text/html": [
              "<div>\n",
              "<style scoped>\n",
              "    .dataframe tbody tr th:only-of-type {\n",
              "        vertical-align: middle;\n",
              "    }\n",
              "\n",
              "    .dataframe tbody tr th {\n",
              "        vertical-align: top;\n",
              "    }\n",
              "\n",
              "    .dataframe thead th {\n",
              "        text-align: right;\n",
              "    }\n",
              "</style>\n",
              "<table border=\"1\" class=\"dataframe\">\n",
              "  <thead>\n",
              "    <tr style=\"text-align: right;\">\n",
              "      <th></th>\n",
              "      <th>support</th>\n",
              "      <th>itemsets</th>\n",
              "    </tr>\n",
              "  </thead>\n",
              "  <tbody>\n",
              "    <tr>\n",
              "      <th>0</th>\n",
              "      <td>0.869841</td>\n",
              "      <td>(nan)</td>\n",
              "    </tr>\n",
              "    <tr>\n",
              "      <th>1</th>\n",
              "      <td>0.501587</td>\n",
              "      <td>(Milk)</td>\n",
              "    </tr>\n",
              "    <tr>\n",
              "      <th>2</th>\n",
              "      <td>0.425397</td>\n",
              "      <td>(Bagel)</td>\n",
              "    </tr>\n",
              "    <tr>\n",
              "      <th>3</th>\n",
              "      <td>0.361905</td>\n",
              "      <td>(Pencil)</td>\n",
              "    </tr>\n",
              "    <tr>\n",
              "      <th>4</th>\n",
              "      <td>0.501587</td>\n",
              "      <td>(Cheese)</td>\n",
              "    </tr>\n",
              "    <tr>\n",
              "      <th>5</th>\n",
              "      <td>0.476190</td>\n",
              "      <td>(Meat)</td>\n",
              "    </tr>\n",
              "    <tr>\n",
              "      <th>6</th>\n",
              "      <td>0.438095</td>\n",
              "      <td>(Wine)</td>\n",
              "    </tr>\n",
              "  </tbody>\n",
              "</table>\n",
              "</div>"
            ],
            "text/plain": [
              "    support  itemsets\n",
              "0  0.869841     (nan)\n",
              "1  0.501587    (Milk)\n",
              "2  0.425397   (Bagel)\n",
              "3  0.361905  (Pencil)\n",
              "4  0.501587  (Cheese)\n",
              "5  0.476190    (Meat)\n",
              "6  0.438095    (Wine)"
            ]
          },
          "execution_count": 9,
          "metadata": {},
          "output_type": "execute_result"
        }
      ],
      "source": [
        "freq_items = apriori(ohe_df, min_support=0.2, use_colnames=True)\n",
        "freq_items.head(7)"
      ]
    },
    {
      "cell_type": "code",
      "execution_count": 10,
      "metadata": {
        "colab": {
          "base_uri": "https://localhost:8080/",
          "height": 206
        },
        "id": "YqX34Nb_jN-E",
        "outputId": "25c287e0-4f23-473c-d9c4-cb0ff1b0a77a"
      },
      "outputs": [
        {
          "data": {
            "text/html": [
              "<div>\n",
              "<style scoped>\n",
              "    .dataframe tbody tr th:only-of-type {\n",
              "        vertical-align: middle;\n",
              "    }\n",
              "\n",
              "    .dataframe tbody tr th {\n",
              "        vertical-align: top;\n",
              "    }\n",
              "\n",
              "    .dataframe thead th {\n",
              "        text-align: right;\n",
              "    }\n",
              "</style>\n",
              "<table border=\"1\" class=\"dataframe\">\n",
              "  <thead>\n",
              "    <tr style=\"text-align: right;\">\n",
              "      <th></th>\n",
              "      <th>antecedents</th>\n",
              "      <th>consequents</th>\n",
              "      <th>antecedent support</th>\n",
              "      <th>consequent support</th>\n",
              "      <th>support</th>\n",
              "      <th>confidence</th>\n",
              "      <th>lift</th>\n",
              "      <th>leverage</th>\n",
              "      <th>conviction</th>\n",
              "    </tr>\n",
              "  </thead>\n",
              "  <tbody>\n",
              "    <tr>\n",
              "      <th>0</th>\n",
              "      <td>(Milk)</td>\n",
              "      <td>(nan)</td>\n",
              "      <td>0.501587</td>\n",
              "      <td>0.869841</td>\n",
              "      <td>0.409524</td>\n",
              "      <td>0.816456</td>\n",
              "      <td>0.938626</td>\n",
              "      <td>-0.026778</td>\n",
              "      <td>0.709141</td>\n",
              "    </tr>\n",
              "    <tr>\n",
              "      <th>1</th>\n",
              "      <td>(Bagel)</td>\n",
              "      <td>(nan)</td>\n",
              "      <td>0.425397</td>\n",
              "      <td>0.869841</td>\n",
              "      <td>0.336508</td>\n",
              "      <td>0.791045</td>\n",
              "      <td>0.909413</td>\n",
              "      <td>-0.033520</td>\n",
              "      <td>0.622902</td>\n",
              "    </tr>\n",
              "    <tr>\n",
              "      <th>2</th>\n",
              "      <td>(Pencil)</td>\n",
              "      <td>(nan)</td>\n",
              "      <td>0.361905</td>\n",
              "      <td>0.869841</td>\n",
              "      <td>0.266667</td>\n",
              "      <td>0.736842</td>\n",
              "      <td>0.847100</td>\n",
              "      <td>-0.048133</td>\n",
              "      <td>0.494603</td>\n",
              "    </tr>\n",
              "    <tr>\n",
              "      <th>3</th>\n",
              "      <td>(Cheese)</td>\n",
              "      <td>(nan)</td>\n",
              "      <td>0.501587</td>\n",
              "      <td>0.869841</td>\n",
              "      <td>0.393651</td>\n",
              "      <td>0.784810</td>\n",
              "      <td>0.902245</td>\n",
              "      <td>-0.042651</td>\n",
              "      <td>0.604855</td>\n",
              "    </tr>\n",
              "    <tr>\n",
              "      <th>4</th>\n",
              "      <td>(Meat)</td>\n",
              "      <td>(nan)</td>\n",
              "      <td>0.476190</td>\n",
              "      <td>0.869841</td>\n",
              "      <td>0.368254</td>\n",
              "      <td>0.773333</td>\n",
              "      <td>0.889051</td>\n",
              "      <td>-0.045956</td>\n",
              "      <td>0.574230</td>\n",
              "    </tr>\n",
              "  </tbody>\n",
              "</table>\n",
              "</div>"
            ],
            "text/plain": [
              "  antecedents consequents  antecedent support  consequent support   support  \\\n",
              "0      (Milk)       (nan)            0.501587            0.869841  0.409524   \n",
              "1     (Bagel)       (nan)            0.425397            0.869841  0.336508   \n",
              "2    (Pencil)       (nan)            0.361905            0.869841  0.266667   \n",
              "3    (Cheese)       (nan)            0.501587            0.869841  0.393651   \n",
              "4      (Meat)       (nan)            0.476190            0.869841  0.368254   \n",
              "\n",
              "   confidence      lift  leverage  conviction  \n",
              "0    0.816456  0.938626 -0.026778    0.709141  \n",
              "1    0.791045  0.909413 -0.033520    0.622902  \n",
              "2    0.736842  0.847100 -0.048133    0.494603  \n",
              "3    0.784810  0.902245 -0.042651    0.604855  \n",
              "4    0.773333  0.889051 -0.045956    0.574230  "
            ]
          },
          "execution_count": 10,
          "metadata": {},
          "output_type": "execute_result"
        }
      ],
      "source": [
        "rules = association_rules(freq_items, metric=\"confidence\", min_threshold=0.6)\n",
        "rules.head()"
      ]
    },
    {
      "cell_type": "code",
      "execution_count": 11,
      "metadata": {
        "colab": {
          "base_uri": "https://localhost:8080/",
          "height": 295
        },
        "id": "NMaL9WBbjYOW",
        "outputId": "db23265c-dd87-4402-b1ae-6fa945064f21"
      },
      "outputs": [
        {
          "data": {
            "image/png": "[encoded data removed]",
            "text/plain": [
              "<Figure size 432x288 with 1 Axes>"
            ]
          },
          "metadata": {
            "needs_background": "light"
          },
          "output_type": "display_data"
        }
      ],
      "source": [
        "# Rules vs Confidence\n",
        "plt.scatter(rules['support'], rules['confidence'], alpha=0.5)\n",
        "plt.xlabel('support')\n",
        "plt.ylabel('confidence')\n",
        "plt.title('Rules vs Confidence')\n",
        "plt.show()"
      ]
    },
    {
      "cell_type": "code",
      "execution_count": 12,
      "metadata": {
        "colab": {
          "base_uri": "https://localhost:8080/",
          "height": 295
        },
        "id": "qvaK0kvdji0q",
        "outputId": "e49fea0a-3e42-49f1-b143-a54e5c62e1d9"
      },
      "outputs": [
        {
          "data": {
            "image/png": "[encoded data removed]",
            "text/plain": [
              "<Figure size 432x288 with 1 Axes>"
            ]
          },
          "metadata": {
            "needs_background": "light"
          },
          "output_type": "display_data"
        }
      ],
      "source": [
        "# Support vs Lift\n",
        "plt.scatter(rules['support'], rules['lift'], alpha=0.5)\n",
        "plt.xlabel('support')\n",
        "plt.ylabel('lift')\n",
        "plt.title('Support vs Lift')\n",
        "plt.show()"
      ]
    },
    {
      "cell_type": "code",
      "execution_count": 13,
      "metadata": {
        "colab": {
          "base_uri": "https://localhost:8080/",
          "height": 300
        },
        "id": "h3JoLp0cjq2b",
        "outputId": "4bf704d8-597c-4f67-8efe-276b9a6d0e63"
      },
      "outputs": [
        {
          "data": {
            "text/plain": [
              "[<matplotlib.lines.Line2D at 0x7f33e9dacd30>,\n",
              " <matplotlib.lines.Line2D at 0x7f33e9dacfd0>]"
            ]
          },
          "execution_count": 13,
          "metadata": {},
          "output_type": "execute_result"
        },
        {
          "data": {
            "image/png": "[encoded data removed]",
            "text/plain": [
              "<Figure size 432x288 with 1 Axes>"
            ]
          },
          "metadata": {
            "needs_background": "light"
          },
          "output_type": "display_data"
        }
      ],
      "source": [
        "# Lift vs Confidence\n",
        "fit = np.polyfit(rules['lift'], rules['confidence'], 1)\n",
        "fit_fn = np.poly1d(fit)\n",
        "plt.plot(rules['lift'], rules['confidence'], 'yo', rules['lift'], fit_fn(rules['lift']))"
      ]
    }
  ],
  "metadata": {
    "colab": {
      "name": "DS2.ipynb",
      "provenance": []
    },
    "kernelspec": {
      "display_name": "Python 3",
      "name": "python3"
    },
    "language_info": {
      "codemirror_mode": {
        "name": "ipython",
        "version": 3
      },
      "file_extension": ".py",
      "mimetype": "text/x-python",
      "name": "python",
      "nbconvert_exporter": "python",
      "pygments_lexer": "ipython3",
      "version": "3.8.12"
    }
  },
  "nbformat": 4,
  "nbformat_minor": 0
}
